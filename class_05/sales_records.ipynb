{
 "cells": [
  {
   "cell_type": "code",
   "execution_count": 1,
   "id": "4e392f0e",
   "metadata": {},
   "outputs": [],
   "source": [
    "import pandas as pd"
   ]
  },
  {
   "cell_type": "code",
   "execution_count": 7,
   "id": "30ef1f28",
   "metadata": {},
   "outputs": [],
   "source": [
    "df = pd.read_csv(\"100 Sales Records.csv\")"
   ]
  },
  {
   "cell_type": "code",
   "execution_count": 13,
   "id": "06fed2f0",
   "metadata": {},
   "outputs": [
    {
     "data": {
      "text/plain": [
       "Country\n",
       "Albania                              2269\n",
       "Angola                               4187\n",
       "Australia                           12995\n",
       "Austria                              2847\n",
       "Azerbaijan                           9255\n",
       "Bangladesh                           8263\n",
       "Belize                               5498\n",
       "Brunei                               6708\n",
       "Bulgaria                             5660\n",
       "Burkina Faso                         8082\n",
       "Cameroon                            10948\n",
       "Cape Verde                           4168\n",
       "Comoros                               962\n",
       "Costa Rica                           6409\n",
       "Cote d'Ivoire                        3482\n",
       "Democratic Republic of the Congo     5741\n",
       "Djibouti                            23198\n",
       "East Timor                           5908\n",
       "Federated States of Micronesia       9379\n",
       "Fiji                                 9905\n",
       "France                               1815\n",
       "Gabon                                8656\n",
       "Grenada                              2804\n",
       "Haiti                                1705\n",
       "Honduras                            11199\n",
       "Iceland                              8867\n",
       "Iran                                 6489\n",
       "Kenya                                6457\n",
       "Kiribati                             5398\n",
       "Kuwait                                522\n",
       "                                    ...  \n",
       "Myanmar                             14180\n",
       "New Zealand                          2187\n",
       "Nicaragua                            8156\n",
       "Niger                                3015\n",
       "Norway                              12574\n",
       "Pakistan                             9892\n",
       "Portugal                             1273\n",
       "Republic of the Congo                6070\n",
       "Romania                              7910\n",
       "Russia                               1779\n",
       "Rwanda                               9539\n",
       "Samoa                                9654\n",
       "San Marino                           4750\n",
       "Sao Tome and Principe               24568\n",
       "Saudi Arabia                         4063\n",
       "Senegal                              6593\n",
       "Sierra Leone                         5890\n",
       "Slovakia                              171\n",
       "Slovenia                             4660\n",
       "Solomon Islands                      2974\n",
       "South Sudan                          2125\n",
       "Spain                                4513\n",
       "Sri Lanka                            6952\n",
       "Switzerland                          8934\n",
       "Syria                                3784\n",
       "The Gambia                          14813\n",
       "Turkmenistan                         8840\n",
       "Tuvalu                               9925\n",
       "United Kingdom                        282\n",
       "Zambia                               4085\n",
       "Name: Units Sold, Length: 76, dtype: int64"
      ]
     },
     "execution_count": 13,
     "metadata": {},
     "output_type": "execute_result"
    }
   ],
   "source": [
    "df.groupby(\"Country\")['Units Sold'].sum()"
   ]
  },
  {
   "cell_type": "code",
   "execution_count": null,
   "id": "0c93551a",
   "metadata": {},
   "outputs": [],
   "source": []
  }
 ],
 "metadata": {
  "kernelspec": {
   "display_name": "Python 3 (ipykernel)",
   "language": "python",
   "name": "python3"
  },
  "language_info": {
   "codemirror_mode": {
    "name": "ipython",
    "version": 3
   },
   "file_extension": ".py",
   "mimetype": "text/x-python",
   "name": "python",
   "nbconvert_exporter": "python",
   "pygments_lexer": "ipython3",
   "version": "3.9.7"
  }
 },
 "nbformat": 4,
 "nbformat_minor": 5
}
