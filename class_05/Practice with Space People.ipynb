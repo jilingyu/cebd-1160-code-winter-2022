{
 "cells": [
  {
   "cell_type": "code",
   "execution_count": 1,
   "id": "5fabc0c7-396f-453b-ac83-f7fa465cd3f8",
   "metadata": {},
   "outputs": [],
   "source": [
    "import pandas as pd\n",
    "import urllib\n",
    "import json"
   ]
  },
  {
   "cell_type": "code",
   "execution_count": 2,
   "id": "044961ed-51cd-4fa1-ae4a-66765f0d8106",
   "metadata": {},
   "outputs": [],
   "source": [
    "data = pd.read_json(\"http://api.open-notify.org/astros.json\")"
   ]
  },
  {
   "cell_type": "code",
   "execution_count": 3,
   "id": "3ad77130-13f0-4470-bac7-b679d6a6809f",
   "metadata": {},
   "outputs": [
    {
     "data": {
      "text/html": [
       "<div>\n",
       "<style scoped>\n",
       "    .dataframe tbody tr th:only-of-type {\n",
       "        vertical-align: middle;\n",
       "    }\n",
       "\n",
       "    .dataframe tbody tr th {\n",
       "        vertical-align: top;\n",
       "    }\n",
       "\n",
       "    .dataframe thead th {\n",
       "        text-align: right;\n",
       "    }\n",
       "</style>\n",
       "<table border=\"1\" class=\"dataframe\">\n",
       "  <thead>\n",
       "    <tr style=\"text-align: right;\">\n",
       "      <th></th>\n",
       "      <th>people</th>\n",
       "      <th>message</th>\n",
       "      <th>number</th>\n",
       "    </tr>\n",
       "  </thead>\n",
       "  <tbody>\n",
       "    <tr>\n",
       "      <th>0</th>\n",
       "      <td>{'craft': 'ISS', 'name': 'Mark Vande Hei'}</td>\n",
       "      <td>success</td>\n",
       "      <td>10</td>\n",
       "    </tr>\n",
       "    <tr>\n",
       "      <th>1</th>\n",
       "      <td>{'craft': 'ISS', 'name': 'Pyotr Dubrov'}</td>\n",
       "      <td>success</td>\n",
       "      <td>10</td>\n",
       "    </tr>\n",
       "    <tr>\n",
       "      <th>2</th>\n",
       "      <td>{'craft': 'ISS', 'name': 'Anton Shkaplerov'}</td>\n",
       "      <td>success</td>\n",
       "      <td>10</td>\n",
       "    </tr>\n",
       "    <tr>\n",
       "      <th>3</th>\n",
       "      <td>{'craft': 'Shenzhou 13', 'name': 'Zhai Zhigang'}</td>\n",
       "      <td>success</td>\n",
       "      <td>10</td>\n",
       "    </tr>\n",
       "    <tr>\n",
       "      <th>4</th>\n",
       "      <td>{'craft': 'Shenzhou 13', 'name': 'Wang Yaping'}</td>\n",
       "      <td>success</td>\n",
       "      <td>10</td>\n",
       "    </tr>\n",
       "    <tr>\n",
       "      <th>5</th>\n",
       "      <td>{'craft': 'Shenzhou 13', 'name': 'Ye Guangfu'}</td>\n",
       "      <td>success</td>\n",
       "      <td>10</td>\n",
       "    </tr>\n",
       "    <tr>\n",
       "      <th>6</th>\n",
       "      <td>{'craft': 'ISS', 'name': 'Raja Chari'}</td>\n",
       "      <td>success</td>\n",
       "      <td>10</td>\n",
       "    </tr>\n",
       "    <tr>\n",
       "      <th>7</th>\n",
       "      <td>{'craft': 'ISS', 'name': 'Tom Marshburn'}</td>\n",
       "      <td>success</td>\n",
       "      <td>10</td>\n",
       "    </tr>\n",
       "    <tr>\n",
       "      <th>8</th>\n",
       "      <td>{'craft': 'ISS', 'name': 'Kayla Barron'}</td>\n",
       "      <td>success</td>\n",
       "      <td>10</td>\n",
       "    </tr>\n",
       "    <tr>\n",
       "      <th>9</th>\n",
       "      <td>{'craft': 'ISS', 'name': 'Matthias Maurer'}</td>\n",
       "      <td>success</td>\n",
       "      <td>10</td>\n",
       "    </tr>\n",
       "  </tbody>\n",
       "</table>\n",
       "</div>"
      ],
      "text/plain": [
       "                                             people  message  number\n",
       "0        {'craft': 'ISS', 'name': 'Mark Vande Hei'}  success      10\n",
       "1          {'craft': 'ISS', 'name': 'Pyotr Dubrov'}  success      10\n",
       "2      {'craft': 'ISS', 'name': 'Anton Shkaplerov'}  success      10\n",
       "3  {'craft': 'Shenzhou 13', 'name': 'Zhai Zhigang'}  success      10\n",
       "4   {'craft': 'Shenzhou 13', 'name': 'Wang Yaping'}  success      10\n",
       "5    {'craft': 'Shenzhou 13', 'name': 'Ye Guangfu'}  success      10\n",
       "6            {'craft': 'ISS', 'name': 'Raja Chari'}  success      10\n",
       "7         {'craft': 'ISS', 'name': 'Tom Marshburn'}  success      10\n",
       "8          {'craft': 'ISS', 'name': 'Kayla Barron'}  success      10\n",
       "9       {'craft': 'ISS', 'name': 'Matthias Maurer'}  success      10"
      ]
     },
     "execution_count": 3,
     "metadata": {},
     "output_type": "execute_result"
    }
   ],
   "source": [
    "data"
   ]
  },
  {
   "cell_type": "code",
   "execution_count": 4,
   "id": "52865127-d76f-4edc-936f-b07866bd697c",
   "metadata": {},
   "outputs": [],
   "source": [
    "request = urllib.request.urlopen(\"http://api.open-notify.org/astros.json\")"
   ]
  },
  {
   "cell_type": "code",
   "execution_count": 5,
   "id": "9938b16a-0d18-4b90-9918-2f899eea1bfc",
   "metadata": {},
   "outputs": [],
   "source": [
    "data = json.load(request)"
   ]
  },
  {
   "cell_type": "code",
   "execution_count": 6,
   "id": "a3eacaac-25cc-41b2-8b9e-b6f475ee5ffe",
   "metadata": {},
   "outputs": [
    {
     "data": {
      "text/plain": [
       "[{'craft': 'ISS', 'name': 'Mark Vande Hei'},\n",
       " {'craft': 'ISS', 'name': 'Pyotr Dubrov'},\n",
       " {'craft': 'ISS', 'name': 'Anton Shkaplerov'},\n",
       " {'craft': 'Shenzhou 13', 'name': 'Zhai Zhigang'},\n",
       " {'craft': 'Shenzhou 13', 'name': 'Wang Yaping'},\n",
       " {'craft': 'Shenzhou 13', 'name': 'Ye Guangfu'},\n",
       " {'craft': 'ISS', 'name': 'Raja Chari'},\n",
       " {'craft': 'ISS', 'name': 'Tom Marshburn'},\n",
       " {'craft': 'ISS', 'name': 'Kayla Barron'},\n",
       " {'craft': 'ISS', 'name': 'Matthias Maurer'}]"
      ]
     },
     "execution_count": 6,
     "metadata": {},
     "output_type": "execute_result"
    }
   ],
   "source": [
    "data['people']"
   ]
  },
  {
   "cell_type": "code",
   "execution_count": 7,
   "id": "ce8c9228-3e53-4362-bb25-70b54446c8b3",
   "metadata": {},
   "outputs": [],
   "source": [
    "dataset = pd.DataFrame(data['people'])"
   ]
  },
  {
   "cell_type": "code",
   "execution_count": 8,
   "id": "70ea7c02-4457-40cc-a1e2-bbb1a5758881",
   "metadata": {},
   "outputs": [
    {
     "data": {
      "text/html": [
       "<div>\n",
       "<style scoped>\n",
       "    .dataframe tbody tr th:only-of-type {\n",
       "        vertical-align: middle;\n",
       "    }\n",
       "\n",
       "    .dataframe tbody tr th {\n",
       "        vertical-align: top;\n",
       "    }\n",
       "\n",
       "    .dataframe thead th {\n",
       "        text-align: right;\n",
       "    }\n",
       "</style>\n",
       "<table border=\"1\" class=\"dataframe\">\n",
       "  <thead>\n",
       "    <tr style=\"text-align: right;\">\n",
       "      <th></th>\n",
       "      <th>craft</th>\n",
       "      <th>name</th>\n",
       "    </tr>\n",
       "  </thead>\n",
       "  <tbody>\n",
       "    <tr>\n",
       "      <th>0</th>\n",
       "      <td>ISS</td>\n",
       "      <td>Mark Vande Hei</td>\n",
       "    </tr>\n",
       "    <tr>\n",
       "      <th>1</th>\n",
       "      <td>ISS</td>\n",
       "      <td>Pyotr Dubrov</td>\n",
       "    </tr>\n",
       "    <tr>\n",
       "      <th>2</th>\n",
       "      <td>ISS</td>\n",
       "      <td>Anton Shkaplerov</td>\n",
       "    </tr>\n",
       "    <tr>\n",
       "      <th>3</th>\n",
       "      <td>Shenzhou 13</td>\n",
       "      <td>Zhai Zhigang</td>\n",
       "    </tr>\n",
       "    <tr>\n",
       "      <th>4</th>\n",
       "      <td>Shenzhou 13</td>\n",
       "      <td>Wang Yaping</td>\n",
       "    </tr>\n",
       "    <tr>\n",
       "      <th>5</th>\n",
       "      <td>Shenzhou 13</td>\n",
       "      <td>Ye Guangfu</td>\n",
       "    </tr>\n",
       "    <tr>\n",
       "      <th>6</th>\n",
       "      <td>ISS</td>\n",
       "      <td>Raja Chari</td>\n",
       "    </tr>\n",
       "    <tr>\n",
       "      <th>7</th>\n",
       "      <td>ISS</td>\n",
       "      <td>Tom Marshburn</td>\n",
       "    </tr>\n",
       "    <tr>\n",
       "      <th>8</th>\n",
       "      <td>ISS</td>\n",
       "      <td>Kayla Barron</td>\n",
       "    </tr>\n",
       "    <tr>\n",
       "      <th>9</th>\n",
       "      <td>ISS</td>\n",
       "      <td>Matthias Maurer</td>\n",
       "    </tr>\n",
       "  </tbody>\n",
       "</table>\n",
       "</div>"
      ],
      "text/plain": [
       "         craft              name\n",
       "0          ISS    Mark Vande Hei\n",
       "1          ISS      Pyotr Dubrov\n",
       "2          ISS  Anton Shkaplerov\n",
       "3  Shenzhou 13      Zhai Zhigang\n",
       "4  Shenzhou 13       Wang Yaping\n",
       "5  Shenzhou 13        Ye Guangfu\n",
       "6          ISS        Raja Chari\n",
       "7          ISS     Tom Marshburn\n",
       "8          ISS      Kayla Barron\n",
       "9          ISS   Matthias Maurer"
      ]
     },
     "execution_count": 8,
     "metadata": {},
     "output_type": "execute_result"
    }
   ],
   "source": [
    "dataset"
   ]
  },
  {
   "cell_type": "markdown",
   "id": "0752d32c-da8a-4e54-a060-42a7143a7994",
   "metadata": {},
   "source": [
    "Q:  How many crafts went up?"
   ]
  },
  {
   "cell_type": "code",
   "execution_count": 39,
   "id": "9471a63b-4554-431d-8aa3-1e346010b10d",
   "metadata": {},
   "outputs": [
    {
     "data": {
      "text/plain": [
       "2"
      ]
     },
     "execution_count": 39,
     "metadata": {},
     "output_type": "execute_result"
    }
   ],
   "source": [
    "dataset['craft'].nunique()"
   ]
  },
  {
   "cell_type": "markdown",
   "id": "0301e94d-bb07-4dfe-9f4f-cae1f4f46ac7",
   "metadata": {},
   "source": [
    "Q: How many people, from each craft?"
   ]
  },
  {
   "cell_type": "code",
   "execution_count": 41,
   "id": "d8e3f86b-5e06-479a-9cf3-5ae9b98a01e4",
   "metadata": {},
   "outputs": [
    {
     "data": {
      "text/html": [
       "<div>\n",
       "<style scoped>\n",
       "    .dataframe tbody tr th:only-of-type {\n",
       "        vertical-align: middle;\n",
       "    }\n",
       "\n",
       "    .dataframe tbody tr th {\n",
       "        vertical-align: top;\n",
       "    }\n",
       "\n",
       "    .dataframe thead th {\n",
       "        text-align: right;\n",
       "    }\n",
       "</style>\n",
       "<table border=\"1\" class=\"dataframe\">\n",
       "  <thead>\n",
       "    <tr style=\"text-align: right;\">\n",
       "      <th></th>\n",
       "      <th>name</th>\n",
       "    </tr>\n",
       "    <tr>\n",
       "      <th>craft</th>\n",
       "      <th></th>\n",
       "    </tr>\n",
       "  </thead>\n",
       "  <tbody>\n",
       "    <tr>\n",
       "      <th>ISS</th>\n",
       "      <td>7</td>\n",
       "    </tr>\n",
       "    <tr>\n",
       "      <th>Shenzhou 13</th>\n",
       "      <td>3</td>\n",
       "    </tr>\n",
       "  </tbody>\n",
       "</table>\n",
       "</div>"
      ],
      "text/plain": [
       "             name\n",
       "craft            \n",
       "ISS             7\n",
       "Shenzhou 13     3"
      ]
     },
     "execution_count": 41,
     "metadata": {},
     "output_type": "execute_result"
    }
   ],
   "source": [
    "dataset.groupby(\"craft\").count()"
   ]
  },
  {
   "cell_type": "markdown",
   "id": "559253cf-d5db-4df3-ac7b-aa896cd0175a",
   "metadata": {},
   "source": [
    "Q: How many people are in space currently?"
   ]
  },
  {
   "cell_type": "code",
   "execution_count": 45,
   "id": "3fdfeed9-9180-4042-8f9a-e3df36456f0e",
   "metadata": {},
   "outputs": [
    {
     "data": {
      "text/plain": [
       "10"
      ]
     },
     "execution_count": 45,
     "metadata": {},
     "output_type": "execute_result"
    }
   ],
   "source": [
    "dataset.name.count()"
   ]
  },
  {
   "cell_type": "code",
   "execution_count": null,
   "id": "3a5597ba-1f52-42c8-917d-d71716e38491",
   "metadata": {},
   "outputs": [],
   "source": []
  }
 ],
 "metadata": {
  "kernelspec": {
   "display_name": "Python 3 (ipykernel)",
   "language": "python",
   "name": "python3"
  },
  "language_info": {
   "codemirror_mode": {
    "name": "ipython",
    "version": 3
   },
   "file_extension": ".py",
   "mimetype": "text/x-python",
   "name": "python",
   "nbconvert_exporter": "python",
   "pygments_lexer": "ipython3",
   "version": "3.9.7"
  }
 },
 "nbformat": 4,
 "nbformat_minor": 5
}
