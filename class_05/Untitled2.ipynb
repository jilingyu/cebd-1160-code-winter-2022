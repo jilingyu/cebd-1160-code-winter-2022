{
 "cells": [
  {
   "cell_type": "code",
   "execution_count": 12,
   "id": "17322285-092d-483f-9dcb-dc7539c72e6d",
   "metadata": {},
   "outputs": [],
   "source": [
    "import urllib\n",
    "import json\n",
    "import pandas as pd"
   ]
  },
  {
   "cell_type": "code",
   "execution_count": 8,
   "id": "b74728e2-6b58-4af6-8f2a-c82348600d26",
   "metadata": {},
   "outputs": [],
   "source": [
    "request = urllib.request.urlopen(\"http://api.open-notify.org/astros.json\")"
   ]
  },
  {
   "cell_type": "code",
   "execution_count": 9,
   "id": "33236871-4cac-4909-98bf-50237fa777e8",
   "metadata": {},
   "outputs": [],
   "source": [
    "data = json.load(request)"
   ]
  },
  {
   "cell_type": "code",
   "execution_count": 10,
   "id": "8a563db1-c07a-4256-8f70-1b16452da84b",
   "metadata": {},
   "outputs": [
    {
     "data": {
      "text/plain": [
       "{'people': [{'craft': 'ISS', 'name': 'Mark Vande Hei'},\n",
       "  {'craft': 'ISS', 'name': 'Pyotr Dubrov'},\n",
       "  {'craft': 'ISS', 'name': 'Anton Shkaplerov'},\n",
       "  {'craft': 'Shenzhou 13', 'name': 'Zhai Zhigang'},\n",
       "  {'craft': 'Shenzhou 13', 'name': 'Wang Yaping'},\n",
       "  {'craft': 'Shenzhou 13', 'name': 'Ye Guangfu'},\n",
       "  {'craft': 'ISS', 'name': 'Raja Chari'},\n",
       "  {'craft': 'ISS', 'name': 'Tom Marshburn'},\n",
       "  {'craft': 'ISS', 'name': 'Kayla Barron'},\n",
       "  {'craft': 'ISS', 'name': 'Matthias Maurer'}],\n",
       " 'message': 'success',\n",
       " 'number': 10}"
      ]
     },
     "execution_count": 10,
     "metadata": {},
     "output_type": "execute_result"
    }
   ],
   "source": [
    "data"
   ]
  },
  {
   "cell_type": "code",
   "execution_count": 16,
   "id": "59e4269f-535a-4f43-ad33-2617804e1bb8",
   "metadata": {},
   "outputs": [
    {
     "data": {
      "text/plain": [
       "[{'craft': 'ISS', 'name': 'Mark Vande Hei'},\n",
       " {'craft': 'ISS', 'name': 'Pyotr Dubrov'},\n",
       " {'craft': 'ISS', 'name': 'Anton Shkaplerov'},\n",
       " {'craft': 'Shenzhou 13', 'name': 'Zhai Zhigang'},\n",
       " {'craft': 'Shenzhou 13', 'name': 'Wang Yaping'},\n",
       " {'craft': 'Shenzhou 13', 'name': 'Ye Guangfu'},\n",
       " {'craft': 'ISS', 'name': 'Raja Chari'},\n",
       " {'craft': 'ISS', 'name': 'Tom Marshburn'},\n",
       " {'craft': 'ISS', 'name': 'Kayla Barron'},\n",
       " {'craft': 'ISS', 'name': 'Matthias Maurer'}]"
      ]
     },
     "execution_count": 16,
     "metadata": {},
     "output_type": "execute_result"
    }
   ],
   "source": [
    "data['people']"
   ]
  },
  {
   "cell_type": "code",
   "execution_count": 14,
   "id": "ee4012f8-f6e4-448c-8f3b-cbf04211349e",
   "metadata": {},
   "outputs": [
    {
     "data": {
      "text/html": [
       "<div>\n",
       "<style scoped>\n",
       "    .dataframe tbody tr th:only-of-type {\n",
       "        vertical-align: middle;\n",
       "    }\n",
       "\n",
       "    .dataframe tbody tr th {\n",
       "        vertical-align: top;\n",
       "    }\n",
       "\n",
       "    .dataframe thead th {\n",
       "        text-align: right;\n",
       "    }\n",
       "</style>\n",
       "<table border=\"1\" class=\"dataframe\">\n",
       "  <thead>\n",
       "    <tr style=\"text-align: right;\">\n",
       "      <th></th>\n",
       "      <th>craft</th>\n",
       "      <th>name</th>\n",
       "    </tr>\n",
       "  </thead>\n",
       "  <tbody>\n",
       "    <tr>\n",
       "      <th>0</th>\n",
       "      <td>ISS</td>\n",
       "      <td>Mark Vande Hei</td>\n",
       "    </tr>\n",
       "    <tr>\n",
       "      <th>1</th>\n",
       "      <td>ISS</td>\n",
       "      <td>Pyotr Dubrov</td>\n",
       "    </tr>\n",
       "    <tr>\n",
       "      <th>2</th>\n",
       "      <td>ISS</td>\n",
       "      <td>Anton Shkaplerov</td>\n",
       "    </tr>\n",
       "    <tr>\n",
       "      <th>3</th>\n",
       "      <td>Shenzhou 13</td>\n",
       "      <td>Zhai Zhigang</td>\n",
       "    </tr>\n",
       "    <tr>\n",
       "      <th>4</th>\n",
       "      <td>Shenzhou 13</td>\n",
       "      <td>Wang Yaping</td>\n",
       "    </tr>\n",
       "    <tr>\n",
       "      <th>5</th>\n",
       "      <td>Shenzhou 13</td>\n",
       "      <td>Ye Guangfu</td>\n",
       "    </tr>\n",
       "    <tr>\n",
       "      <th>6</th>\n",
       "      <td>ISS</td>\n",
       "      <td>Raja Chari</td>\n",
       "    </tr>\n",
       "    <tr>\n",
       "      <th>7</th>\n",
       "      <td>ISS</td>\n",
       "      <td>Tom Marshburn</td>\n",
       "    </tr>\n",
       "    <tr>\n",
       "      <th>8</th>\n",
       "      <td>ISS</td>\n",
       "      <td>Kayla Barron</td>\n",
       "    </tr>\n",
       "    <tr>\n",
       "      <th>9</th>\n",
       "      <td>ISS</td>\n",
       "      <td>Matthias Maurer</td>\n",
       "    </tr>\n",
       "  </tbody>\n",
       "</table>\n",
       "</div>"
      ],
      "text/plain": [
       "         craft              name\n",
       "0          ISS    Mark Vande Hei\n",
       "1          ISS      Pyotr Dubrov\n",
       "2          ISS  Anton Shkaplerov\n",
       "3  Shenzhou 13      Zhai Zhigang\n",
       "4  Shenzhou 13       Wang Yaping\n",
       "5  Shenzhou 13        Ye Guangfu\n",
       "6          ISS        Raja Chari\n",
       "7          ISS     Tom Marshburn\n",
       "8          ISS      Kayla Barron\n",
       "9          ISS   Matthias Maurer"
      ]
     },
     "execution_count": 14,
     "metadata": {},
     "output_type": "execute_result"
    }
   ],
   "source": [
    "pd.DataFrame(data['people'])"
   ]
  },
  {
   "cell_type": "code",
   "execution_count": null,
   "id": "7b65ffd0-254e-4ab3-8e09-d46537ed76f0",
   "metadata": {},
   "outputs": [],
   "source": []
  }
 ],
 "metadata": {
  "kernelspec": {
   "display_name": "Python 3 (ipykernel)",
   "language": "python",
   "name": "python3"
  },
  "language_info": {
   "codemirror_mode": {
    "name": "ipython",
    "version": 3
   },
   "file_extension": ".py",
   "mimetype": "text/x-python",
   "name": "python",
   "nbconvert_exporter": "python",
   "pygments_lexer": "ipython3",
   "version": "3.9.7"
  }
 },
 "nbformat": 4,
 "nbformat_minor": 5
}
