{
 "cells": [
  {
   "cell_type": "code",
   "execution_count": 2,
   "id": "f0797082-d348-4e69-8193-74f2c1cc0c23",
   "metadata": {},
   "outputs": [],
   "source": [
    "import pandas as pd\n",
    "\n",
    "df = pd.read_json('https://marketdata.tradermade.com/api/v1/live_currencies_list?api_key=XDhiJO-q8PGjwcuYUH1Y')"
   ]
  },
  {
   "cell_type": "code",
   "execution_count": 3,
   "id": "5c5e4bba-af5c-43e8-b683-9ff40e0208b7",
   "metadata": {},
   "outputs": [
    {
     "data": {
      "text/html": [
       "<div>\n",
       "<style scoped>\n",
       "    .dataframe tbody tr th:only-of-type {\n",
       "        vertical-align: middle;\n",
       "    }\n",
       "\n",
       "    .dataframe tbody tr th {\n",
       "        vertical-align: top;\n",
       "    }\n",
       "\n",
       "    .dataframe thead th {\n",
       "        text-align: right;\n",
       "    }\n",
       "</style>\n",
       "<table border=\"1\" class=\"dataframe\">\n",
       "  <thead>\n",
       "    <tr style=\"text-align: right;\">\n",
       "      <th></th>\n",
       "      <th>available_currencies</th>\n",
       "      <th>endpoint</th>\n",
       "    </tr>\n",
       "  </thead>\n",
       "  <tbody>\n",
       "    <tr>\n",
       "      <th>AED</th>\n",
       "      <td>UAE Dirham</td>\n",
       "      <td>live_currencies</td>\n",
       "    </tr>\n",
       "    <tr>\n",
       "      <th>ARS</th>\n",
       "      <td>Argentine Peso</td>\n",
       "      <td>live_currencies</td>\n",
       "    </tr>\n",
       "    <tr>\n",
       "      <th>AUD</th>\n",
       "      <td>Australian Dollar</td>\n",
       "      <td>live_currencies</td>\n",
       "    </tr>\n",
       "    <tr>\n",
       "      <th>BRL</th>\n",
       "      <td>Brazilian Real</td>\n",
       "      <td>live_currencies</td>\n",
       "    </tr>\n",
       "    <tr>\n",
       "      <th>CAD</th>\n",
       "      <td>Canadian Dollar</td>\n",
       "      <td>live_currencies</td>\n",
       "    </tr>\n",
       "  </tbody>\n",
       "</table>\n",
       "</div>"
      ],
      "text/plain": [
       "    available_currencies         endpoint\n",
       "AED           UAE Dirham  live_currencies\n",
       "ARS       Argentine Peso  live_currencies\n",
       "AUD    Australian Dollar  live_currencies\n",
       "BRL       Brazilian Real  live_currencies\n",
       "CAD      Canadian Dollar  live_currencies"
      ]
     },
     "execution_count": 3,
     "metadata": {},
     "output_type": "execute_result"
    }
   ],
   "source": [
    "df.head()"
   ]
  },
  {
   "cell_type": "code",
   "execution_count": 9,
   "id": "ffc0bdf2-7af7-4d57-a9ba-c4131988a314",
   "metadata": {},
   "outputs": [
    {
     "data": {
      "text/plain": [
       "{'available_currencies': {'AED': 'UAE Dirham',\n",
       "  'ARS': 'Argentine Peso',\n",
       "  'AUD': 'Australian Dollar',\n",
       "  'BRL': 'Brazilian Real',\n",
       "  'CAD': 'Canadian Dollar',\n",
       "  'CHF': 'Swiss Franc',\n",
       "  'CLP': 'Chilean Peso',\n",
       "  'CNY': 'Chinese Yuan',\n",
       "  'COP': 'Colombian Peso',\n",
       "  'CZK': 'Czech Koruna',\n",
       "  'DKK': 'Danish Krone',\n",
       "  'EUR': 'Euro',\n",
       "  'GBP': 'British Pound Sterling',\n",
       "  'HKD': 'Hong Kong Dollar',\n",
       "  'HRK': 'Croatian Kuna',\n",
       "  'HUF': 'Hungarian Forint',\n",
       "  'IDR': 'Indonesian Rupiah',\n",
       "  'ILS': 'Israeli New Sheqel',\n",
       "  'INR': 'Indian Rupee',\n",
       "  'ISK': 'Icelandic Krona',\n",
       "  'JPY': 'Japanese Yen',\n",
       "  'KRW': 'South Korean Won',\n",
       "  'KWD': 'Kuwaiti Dinar',\n",
       "  'MAD': 'Moroccan Dirham',\n",
       "  'MXN': 'Mexican Peso',\n",
       "  'MYR': 'Malaysian Ringgit',\n",
       "  'NOK': 'Norwegian Krone',\n",
       "  'NZD': 'New Zealand Dollar',\n",
       "  'PEN': 'Peruvian Nuevo Sol',\n",
       "  'PHP': 'Philippine Peso',\n",
       "  'PLN': 'Polish Zloty',\n",
       "  'RON': 'Romanian Leu',\n",
       "  'RUB': 'Russian Ruble',\n",
       "  'SEK': 'Swedish Krona',\n",
       "  'SGD': 'Singapore Dollar',\n",
       "  'THB': 'Thai Baht',\n",
       "  'TRY': 'Turkish Lira',\n",
       "  'TWD': 'Taiwanese Dollar',\n",
       "  'USD': 'US Dollar',\n",
       "  'XAG': 'Silver (troy ounce)',\n",
       "  'XAU': 'Gold (troy ounce)',\n",
       "  'XPD': 'Palladium',\n",
       "  'XPT': 'Platinum',\n",
       "  'ZAR': 'South African Rand'},\n",
       " 'endpoint': 'live_currencies'}"
      ]
     },
     "execution_count": 9,
     "metadata": {},
     "output_type": "execute_result"
    }
   ],
   "source": [
    "import json\n",
    "f = open('currencies.json')\n",
    "data = json.load(f)\n",
    "data"
   ]
  },
  {
   "cell_type": "code",
   "execution_count": 10,
   "id": "64066b74-3326-412a-8891-83698eebe5de",
   "metadata": {},
   "outputs": [],
   "source": [
    "columns = ['Symbol', 'Currency']"
   ]
  },
  {
   "cell_type": "code",
   "execution_count": 11,
   "id": "4627e98a-30a5-4ea3-a7d0-9b0f06760aa1",
   "metadata": {},
   "outputs": [],
   "source": [
    "df = pd.DataFrame([[x,y] for x,y in data['available_currencies'].items()], columns=columns)"
   ]
  },
  {
   "cell_type": "code",
   "execution_count": 12,
   "id": "5dd2e876-dd6b-4b98-be86-de4d010668c9",
   "metadata": {},
   "outputs": [
    {
     "data": {
      "text/html": [
       "<div>\n",
       "<style scoped>\n",
       "    .dataframe tbody tr th:only-of-type {\n",
       "        vertical-align: middle;\n",
       "    }\n",
       "\n",
       "    .dataframe tbody tr th {\n",
       "        vertical-align: top;\n",
       "    }\n",
       "\n",
       "    .dataframe thead th {\n",
       "        text-align: right;\n",
       "    }\n",
       "</style>\n",
       "<table border=\"1\" class=\"dataframe\">\n",
       "  <thead>\n",
       "    <tr style=\"text-align: right;\">\n",
       "      <th></th>\n",
       "      <th>Symbol</th>\n",
       "      <th>Currency</th>\n",
       "    </tr>\n",
       "  </thead>\n",
       "  <tbody>\n",
       "    <tr>\n",
       "      <th>4</th>\n",
       "      <td>CAD</td>\n",
       "      <td>Canadian Dollar</td>\n",
       "    </tr>\n",
       "  </tbody>\n",
       "</table>\n",
       "</div>"
      ],
      "text/plain": [
       "  Symbol         Currency\n",
       "4    CAD  Canadian Dollar"
      ]
     },
     "execution_count": 12,
     "metadata": {},
     "output_type": "execute_result"
    }
   ],
   "source": [
    "df.query('Symbol == \"CAD\"')"
   ]
  },
  {
   "cell_type": "code",
   "execution_count": 13,
   "id": "5f4cf464-ff4f-4197-b6a4-a93509dbc82b",
   "metadata": {},
   "outputs": [
    {
     "data": {
      "text/plain": [
       "[['AED', 'UAE Dirham'],\n",
       " ['ARS', 'Argentine Peso'],\n",
       " ['AUD', 'Australian Dollar'],\n",
       " ['BRL', 'Brazilian Real'],\n",
       " ['CAD', 'Canadian Dollar'],\n",
       " ['CHF', 'Swiss Franc'],\n",
       " ['CLP', 'Chilean Peso'],\n",
       " ['CNY', 'Chinese Yuan'],\n",
       " ['COP', 'Colombian Peso'],\n",
       " ['CZK', 'Czech Koruna'],\n",
       " ['DKK', 'Danish Krone'],\n",
       " ['EUR', 'Euro'],\n",
       " ['GBP', 'British Pound Sterling'],\n",
       " ['HKD', 'Hong Kong Dollar'],\n",
       " ['HRK', 'Croatian Kuna'],\n",
       " ['HUF', 'Hungarian Forint'],\n",
       " ['IDR', 'Indonesian Rupiah'],\n",
       " ['ILS', 'Israeli New Sheqel'],\n",
       " ['INR', 'Indian Rupee'],\n",
       " ['ISK', 'Icelandic Krona'],\n",
       " ['JPY', 'Japanese Yen'],\n",
       " ['KRW', 'South Korean Won'],\n",
       " ['KWD', 'Kuwaiti Dinar'],\n",
       " ['MAD', 'Moroccan Dirham'],\n",
       " ['MXN', 'Mexican Peso'],\n",
       " ['MYR', 'Malaysian Ringgit'],\n",
       " ['NOK', 'Norwegian Krone'],\n",
       " ['NZD', 'New Zealand Dollar'],\n",
       " ['PEN', 'Peruvian Nuevo Sol'],\n",
       " ['PHP', 'Philippine Peso'],\n",
       " ['PLN', 'Polish Zloty'],\n",
       " ['RON', 'Romanian Leu'],\n",
       " ['RUB', 'Russian Ruble'],\n",
       " ['SEK', 'Swedish Krona'],\n",
       " ['SGD', 'Singapore Dollar'],\n",
       " ['THB', 'Thai Baht'],\n",
       " ['TRY', 'Turkish Lira'],\n",
       " ['TWD', 'Taiwanese Dollar'],\n",
       " ['USD', 'US Dollar'],\n",
       " ['XAG', 'Silver (troy ounce)'],\n",
       " ['XAU', 'Gold (troy ounce)'],\n",
       " ['XPD', 'Palladium'],\n",
       " ['XPT', 'Platinum'],\n",
       " ['ZAR', 'South African Rand']]"
      ]
     },
     "execution_count": 13,
     "metadata": {},
     "output_type": "execute_result"
    }
   ],
   "source": [
    "[[x,y] for x,y in data['available_currencies'].items()]"
   ]
  },
  {
   "cell_type": "code",
   "execution_count": 41,
   "id": "6c30e115-cc37-4ae9-bb41-50878f083ad9",
   "metadata": {},
   "outputs": [
    {
     "data": {
      "text/plain": [
       "dict_items([('AED', 'UAE Dirham'), ('ARS', 'Argentine Peso'), ('AUD', 'Australian Dollar'), ('BRL', 'Brazilian Real'), ('CAD', 'Canadian Dollar'), ('CHF', 'Swiss Franc'), ('CLP', 'Chilean Peso'), ('CNY', 'Chinese Yuan'), ('COP', 'Colombian Peso'), ('CZK', 'Czech Koruna'), ('DKK', 'Danish Krone'), ('EUR', 'Euro'), ('GBP', 'British Pound Sterling'), ('HKD', 'Hong Kong Dollar'), ('HRK', 'Croatian Kuna'), ('HUF', 'Hungarian Forint'), ('IDR', 'Indonesian Rupiah'), ('ILS', 'Israeli New Sheqel'), ('INR', 'Indian Rupee'), ('ISK', 'Icelandic Krona'), ('JPY', 'Japanese Yen'), ('KRW', 'South Korean Won'), ('KWD', 'Kuwaiti Dinar'), ('MAD', 'Moroccan Dirham'), ('MXN', 'Mexican Peso'), ('MYR', 'Malaysian Ringgit'), ('NOK', 'Norwegian Krone'), ('NZD', 'New Zealand Dollar'), ('PEN', 'Peruvian Nuevo Sol'), ('PHP', 'Philippine Peso'), ('PLN', 'Polish Zloty'), ('RON', 'Romanian Leu'), ('RUB', 'Russian Ruble'), ('SEK', 'Swedish Krona'), ('SGD', 'Singapore Dollar'), ('THB', 'Thai Baht'), ('TRY', 'Turkish Lira'), ('TWD', 'Taiwanese Dollar'), ('USD', 'US Dollar'), ('XAG', 'Silver (troy ounce)'), ('XAU', 'Gold (troy ounce)'), ('XPD', 'Palladium'), ('XPT', 'Platinum'), ('ZAR', 'South African Rand')])"
      ]
     },
     "execution_count": 41,
     "metadata": {},
     "output_type": "execute_result"
    }
   ],
   "source": [
    "data['available_currencies'].items()"
   ]
  },
  {
   "cell_type": "code",
   "execution_count": 15,
   "id": "78bab603-5eb8-451d-bbfd-1bbba475f3a4",
   "metadata": {},
   "outputs": [
    {
     "data": {
      "text/html": [
       "<div>\n",
       "<style scoped>\n",
       "    .dataframe tbody tr th:only-of-type {\n",
       "        vertical-align: middle;\n",
       "    }\n",
       "\n",
       "    .dataframe tbody tr th {\n",
       "        vertical-align: top;\n",
       "    }\n",
       "\n",
       "    .dataframe thead th {\n",
       "        text-align: right;\n",
       "    }\n",
       "</style>\n",
       "<table border=\"1\" class=\"dataframe\">\n",
       "  <thead>\n",
       "    <tr style=\"text-align: right;\">\n",
       "      <th></th>\n",
       "      <th>Symbol</th>\n",
       "      <th>Currency</th>\n",
       "    </tr>\n",
       "  </thead>\n",
       "  <tbody>\n",
       "    <tr>\n",
       "      <th>0</th>\n",
       "      <td>AED</td>\n",
       "      <td>UAE Dirham</td>\n",
       "    </tr>\n",
       "    <tr>\n",
       "      <th>1</th>\n",
       "      <td>ARS</td>\n",
       "      <td>Argentine Peso</td>\n",
       "    </tr>\n",
       "    <tr>\n",
       "      <th>2</th>\n",
       "      <td>AUD</td>\n",
       "      <td>Australian Dollar</td>\n",
       "    </tr>\n",
       "    <tr>\n",
       "      <th>3</th>\n",
       "      <td>BRL</td>\n",
       "      <td>Brazilian Real</td>\n",
       "    </tr>\n",
       "    <tr>\n",
       "      <th>4</th>\n",
       "      <td>CAD</td>\n",
       "      <td>Canadian Dollar</td>\n",
       "    </tr>\n",
       "  </tbody>\n",
       "</table>\n",
       "</div>"
      ],
      "text/plain": [
       "  Symbol           Currency\n",
       "0    AED         UAE Dirham\n",
       "1    ARS     Argentine Peso\n",
       "2    AUD  Australian Dollar\n",
       "3    BRL     Brazilian Real\n",
       "4    CAD    Canadian Dollar"
      ]
     },
     "execution_count": 15,
     "metadata": {},
     "output_type": "execute_result"
    }
   ],
   "source": [
    "df.head()"
   ]
  },
  {
   "cell_type": "code",
   "execution_count": null,
   "id": "4d8d68e8-e79a-4df0-94a8-6afb8b249e24",
   "metadata": {},
   "outputs": [],
   "source": []
  }
 ],
 "metadata": {
  "kernelspec": {
   "display_name": "Python 3 (ipykernel)",
   "language": "python",
   "name": "python3"
  },
  "language_info": {
   "codemirror_mode": {
    "name": "ipython",
    "version": 3
   },
   "file_extension": ".py",
   "mimetype": "text/x-python",
   "name": "python",
   "nbconvert_exporter": "python",
   "pygments_lexer": "ipython3",
   "version": "3.9.7"
  }
 },
 "nbformat": 4,
 "nbformat_minor": 5
}
