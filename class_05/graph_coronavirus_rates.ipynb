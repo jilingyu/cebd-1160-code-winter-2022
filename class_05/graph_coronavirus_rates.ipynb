{
 "cells": [
  {
   "cell_type": "code",
   "execution_count": 128,
   "id": "af80deb6-af97-4dc9-a887-15bf1f4fff4a",
   "metadata": {},
   "outputs": [],
   "source": [
    "from requests import get\n",
    "import io\n",
    "import pandas as pd"
   ]
  },
  {
   "cell_type": "code",
   "execution_count": 147,
   "id": "1d6073ed-eb1c-4102-9479-0e442367e0fb",
   "metadata": {},
   "outputs": [],
   "source": [
    "%matplotlib inline\n",
    "import matplotlib.pyplot as plt\n",
    "plt.style.use('seaborn')\n",
    "import matplotlib as mpl"
   ]
  },
  {
   "cell_type": "code",
   "execution_count": 3,
   "id": "3d8d21cd-0cfc-4503-9892-7e1eb02b2e3d",
   "metadata": {},
   "outputs": [],
   "source": [
    "    endpoint = (\n",
    "        'https://api.coronavirus.data.gov.uk/v1/data?'\n",
    "        'filters=areaType=nation;areaName=england&'\n",
    "        'structure={\"date\":\"date\",\"newCases\":\"newCasesByPublishDate\"}'\n",
    "    )"
   ]
  },
  {
   "cell_type": "code",
   "execution_count": 49,
   "id": "34c60e04-ad46-474a-837a-2d8f7eebd5c2",
   "metadata": {},
   "outputs": [],
   "source": [
    "response = get(endpoint, timeout=10)"
   ]
  },
  {
   "cell_type": "code",
   "execution_count": 50,
   "id": "4b39f2ee-d617-4c43-b8aa-fad562009455",
   "metadata": {},
   "outputs": [
    {
     "data": {
      "text/plain": [
       "<Response [200]>"
      ]
     },
     "execution_count": 50,
     "metadata": {},
     "output_type": "execute_result"
    }
   ],
   "source": [
    "response"
   ]
  },
  {
   "cell_type": "code",
   "execution_count": 150,
   "id": "fd1c3288-c8f6-45f7-a6ca-1eef2fbbed90",
   "metadata": {},
   "outputs": [],
   "source": [
    "df = pd.DataFrame.from_dict(response.json()['data'], orient=\"columns\")"
   ]
  },
  {
   "cell_type": "code",
   "execution_count": 116,
   "id": "4d966ab7-c153-44bb-b483-7378b7147eff",
   "metadata": {},
   "outputs": [
    {
     "data": {
      "text/html": [
       "<div>\n",
       "<style scoped>\n",
       "    .dataframe tbody tr th:only-of-type {\n",
       "        vertical-align: middle;\n",
       "    }\n",
       "\n",
       "    .dataframe tbody tr th {\n",
       "        vertical-align: top;\n",
       "    }\n",
       "\n",
       "    .dataframe thead th {\n",
       "        text-align: right;\n",
       "    }\n",
       "</style>\n",
       "<table border=\"1\" class=\"dataframe\">\n",
       "  <thead>\n",
       "    <tr style=\"text-align: right;\">\n",
       "      <th></th>\n",
       "      <th>date</th>\n",
       "      <th>newCases</th>\n",
       "    </tr>\n",
       "  </thead>\n",
       "  <tbody>\n",
       "    <tr>\n",
       "      <th>0</th>\n",
       "      <td>2022-02-17</td>\n",
       "      <td>40376</td>\n",
       "    </tr>\n",
       "    <tr>\n",
       "      <th>1</th>\n",
       "      <td>2022-02-16</td>\n",
       "      <td>42756</td>\n",
       "    </tr>\n",
       "  </tbody>\n",
       "</table>\n",
       "</div>"
      ],
      "text/plain": [
       "         date  newCases\n",
       "0  2022-02-17     40376\n",
       "1  2022-02-16     42756"
      ]
     },
     "execution_count": 116,
     "metadata": {},
     "output_type": "execute_result"
    }
   ],
   "source": [
    "df.head(2)"
   ]
  },
  {
   "cell_type": "code",
   "execution_count": 154,
   "id": "1531bcd2-a762-49ae-bf0d-0fe0c8090b93",
   "metadata": {},
   "outputs": [],
   "source": [
    "df[\"date\"] = df[\"date\"].astype(\"datetime64\")"
   ]
  },
  {
   "cell_type": "code",
   "execution_count": 155,
   "id": "cd1f679a-84e9-476f-a2e2-84cde0592377",
   "metadata": {},
   "outputs": [],
   "source": [
    "df.set_index('date', inplace=True)"
   ]
  },
  {
   "cell_type": "code",
   "execution_count": 171,
   "id": "0c04d3a8-d18c-4c90-ace7-daa7990d665d",
   "metadata": {},
   "outputs": [
    {
     "data": {
      "image/png": "[encoded data removed]",
      "text/plain": [
       "<Figure size 576x396 with 1 Axes>"
      ]
     },
     "metadata": {},
     "output_type": "display_data"
    }
   ],
   "source": [
    "ax = df.resample('M').count().plot(kind=\"line\")"
   ]
  },
  {
   "cell_type": "code",
   "execution_count": null,
   "id": "bde3009e-b582-42a1-93e3-fa3206562480",
   "metadata": {},
   "outputs": [],
   "source": []
  }
 ],
 "metadata": {
  "kernelspec": {
   "display_name": "Python 3 (ipykernel)",
   "language": "python",
   "name": "python3"
  },
  "language_info": {
   "codemirror_mode": {
    "name": "ipython",
    "version": 3
   },
   "file_extension": ".py",
   "mimetype": "text/x-python",
   "name": "python",
   "nbconvert_exporter": "python",
   "pygments_lexer": "ipython3",
   "version": "3.9.7"
  }
 },
 "nbformat": 4,
 "nbformat_minor": 5
}
