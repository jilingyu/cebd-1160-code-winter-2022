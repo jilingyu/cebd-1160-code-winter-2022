{
 "cells": [
  {
   "cell_type": "code",
   "execution_count": 1,
   "id": "e0df51bf-d9a3-40a1-9369-50c8e91103c6",
   "metadata": {},
   "outputs": [],
   "source": [
    "import pandas as pd"
   ]
  },
  {
   "cell_type": "code",
   "execution_count": 2,
   "id": "fbffb62d-f49e-4eaf-ba98-b0b8ca8464e3",
   "metadata": {},
   "outputs": [],
   "source": [
    "data = pd.read_csv('../input_files/100 Sales Records.csv')"
   ]
  },
  {
   "cell_type": "code",
   "execution_count": 4,
   "id": "36099dec-88b2-463b-8bbe-8782de927aa1",
   "metadata": {},
   "outputs": [
    {
     "data": {
      "text/html": [
       "<div>\n",
       "<style scoped>\n",
       "    .dataframe tbody tr th:only-of-type {\n",
       "        vertical-align: middle;\n",
       "    }\n",
       "\n",
       "    .dataframe tbody tr th {\n",
       "        vertical-align: top;\n",
       "    }\n",
       "\n",
       "    .dataframe thead th {\n",
       "        text-align: right;\n",
       "    }\n",
       "</style>\n",
       "<table border=\"1\" class=\"dataframe\">\n",
       "  <thead>\n",
       "    <tr style=\"text-align: right;\">\n",
       "      <th></th>\n",
       "      <th>Region</th>\n",
       "      <th>Country</th>\n",
       "      <th>Item Type</th>\n",
       "      <th>Sales Channel</th>\n",
       "      <th>Order Priority</th>\n",
       "      <th>Order Date</th>\n",
       "      <th>Order ID</th>\n",
       "      <th>Ship Date</th>\n",
       "      <th>Units Sold</th>\n",
       "      <th>Unit Price</th>\n",
       "      <th>Unit Cost</th>\n",
       "      <th>Total Revenue</th>\n",
       "      <th>Total Cost</th>\n",
       "      <th>Total Profit</th>\n",
       "    </tr>\n",
       "  </thead>\n",
       "  <tbody>\n",
       "    <tr>\n",
       "      <th>0</th>\n",
       "      <td>Australia and Oceania</td>\n",
       "      <td>Tuvalu</td>\n",
       "      <td>Baby Food</td>\n",
       "      <td>Offline</td>\n",
       "      <td>H</td>\n",
       "      <td>5/28/2010</td>\n",
       "      <td>669165933</td>\n",
       "      <td>6/27/2010</td>\n",
       "      <td>9925</td>\n",
       "      <td>255.28</td>\n",
       "      <td>159.42</td>\n",
       "      <td>2533654.0</td>\n",
       "      <td>1582243.50</td>\n",
       "      <td>951410.50</td>\n",
       "    </tr>\n",
       "    <tr>\n",
       "      <th>1</th>\n",
       "      <td>Central America and the Caribbean</td>\n",
       "      <td>Grenada</td>\n",
       "      <td>Cereal</td>\n",
       "      <td>Online</td>\n",
       "      <td>C</td>\n",
       "      <td>8/22/2012</td>\n",
       "      <td>963881480</td>\n",
       "      <td>9/15/2012</td>\n",
       "      <td>2804</td>\n",
       "      <td>205.70</td>\n",
       "      <td>117.11</td>\n",
       "      <td>576782.8</td>\n",
       "      <td>328376.44</td>\n",
       "      <td>248406.36</td>\n",
       "    </tr>\n",
       "  </tbody>\n",
       "</table>\n",
       "</div>"
      ],
      "text/plain": [
       "                              Region  Country  Item Type Sales Channel  \\\n",
       "0              Australia and Oceania   Tuvalu  Baby Food       Offline   \n",
       "1  Central America and the Caribbean  Grenada     Cereal        Online   \n",
       "\n",
       "  Order Priority Order Date   Order ID  Ship Date  Units Sold  Unit Price  \\\n",
       "0              H  5/28/2010  669165933  6/27/2010        9925      255.28   \n",
       "1              C  8/22/2012  963881480  9/15/2012        2804      205.70   \n",
       "\n",
       "   Unit Cost  Total Revenue  Total Cost  Total Profit  \n",
       "0     159.42      2533654.0  1582243.50     951410.50  \n",
       "1     117.11       576782.8   328376.44     248406.36  "
      ]
     },
     "execution_count": 4,
     "metadata": {},
     "output_type": "execute_result"
    }
   ],
   "source": [
    "data.head(2)"
   ]
  },
  {
   "cell_type": "markdown",
   "id": "3475d2be-a640-428d-8f11-1fe87ac5e74c",
   "metadata": {},
   "source": [
    "### List of sales regions"
   ]
  },
  {
   "cell_type": "code",
   "execution_count": 6,
   "id": "5f4a9b8d-90b4-4b70-9e30-562b481036d5",
   "metadata": {},
   "outputs": [
    {
     "data": {
      "text/plain": [
       "array(['Australia and Oceania', 'Central America and the Caribbean',\n",
       "       'Europe', 'Sub-Saharan Africa', 'Asia',\n",
       "       'Middle East and North Africa', 'North America'], dtype=object)"
      ]
     },
     "execution_count": 6,
     "metadata": {},
     "output_type": "execute_result"
    }
   ],
   "source": [
    "data.Region.unique()"
   ]
  },
  {
   "cell_type": "code",
   "execution_count": 7,
   "id": "159989ae-a123-4fdb-bc29-ba76bd654b87",
   "metadata": {},
   "outputs": [
    {
     "data": {
      "text/plain": [
       "['Australia and Oceania',\n",
       " 'Central America and the Caribbean',\n",
       " 'Europe',\n",
       " 'Sub-Saharan Africa',\n",
       " 'Asia',\n",
       " 'Middle East and North Africa',\n",
       " 'North America']"
      ]
     },
     "execution_count": 7,
     "metadata": {},
     "output_type": "execute_result"
    }
   ],
   "source": [
    "list(data.Region.unique())"
   ]
  },
  {
   "cell_type": "markdown",
   "id": "b58d2d2a-ff9b-4bd3-9947-2e2e14a0f41a",
   "metadata": {},
   "source": [
    "### Total sold per region"
   ]
  },
  {
   "cell_type": "code",
   "execution_count": 8,
   "id": "71e5732b-d21a-4535-9392-35f8c39b7194",
   "metadata": {},
   "outputs": [
    {
     "data": {
      "text/plain": [
       "Region\n",
       "Asia                                  59967\n",
       "Australia and Oceania                 68325\n",
       "Central America and the Caribbean     35771\n",
       "Europe                                98117\n",
       "Middle East and North Africa          48678\n",
       "North America                         19143\n",
       "Sub-Saharan Africa                   182870\n",
       "Name: Units Sold, dtype: int64"
      ]
     },
     "execution_count": 8,
     "metadata": {},
     "output_type": "execute_result"
    }
   ],
   "source": [
    "data.groupby('Region')['Units Sold'].sum()"
   ]
  },
  {
   "cell_type": "markdown",
   "id": "99c0f00f-2eef-42c7-ae1a-b834f5b9051e",
   "metadata": {},
   "source": [
    "### Total REvenue for Regions"
   ]
  },
  {
   "cell_type": "code",
   "execution_count": 11,
   "id": "9d30b408-e2f9-482b-a62c-39fdaa3a4427",
   "metadata": {},
   "outputs": [
    {
     "data": {
      "text/plain": [
       "{'Asia': 21347091.02,\n",
       " 'Australia and Oceania': 14094265.13,\n",
       " 'Central America and the Caribbean': 9170385.49,\n",
       " 'Europe': 33368932.11,\n",
       " 'Middle East and North Africa': 14052706.58,\n",
       " 'North America': 5643356.55,\n",
       " 'Sub-Saharan Africa': 39672031.43}"
      ]
     },
     "execution_count": 11,
     "metadata": {},
     "output_type": "execute_result"
    }
   ],
   "source": [
    "dict(data.groupby('Region')['Total Revenue'].sum())"
   ]
  },
  {
   "cell_type": "code",
   "execution_count": 25,
   "id": "f9a3b1f4-534e-4ace-a6f4-6c746c8e3653",
   "metadata": {},
   "outputs": [
    {
     "name": "stdout",
     "output_type": "stream",
     "text": [
      "The total sales for continent Asia are $21347091.02\n",
      "The total sales for continent Australia and Oceania are $14094265.13\n",
      "The total sales for continent Central America and the Caribbean are $9170385.49\n",
      "The total sales for continent Europe are $33368932.11\n",
      "The total sales for continent Middle East and North Africa are $14052706.58\n",
      "The total sales for continent North America are $5643356.55\n",
      "The total sales for continent Sub-Saharan Africa are $39672031.43\n"
     ]
    }
   ],
   "source": [
    "for r in dict(data.groupby('Region')['Total Revenue'].sum()).items():\n",
    "    print(\"The total revenue for continent {0} are ${1:.2f}\".format(r[0], r[1]))"
   ]
  },
  {
   "cell_type": "markdown",
   "id": "35caaf33-55e9-4cf3-b24a-9c8a8e91d849",
   "metadata": {},
   "source": [
    "## Totals"
   ]
  },
  {
   "cell_type": "code",
   "execution_count": 27,
   "id": "ee9827ea-4ea2-47fc-964b-35569bbb55f5",
   "metadata": {},
   "outputs": [
    {
     "data": {
      "text/plain": [
       "512871"
      ]
     },
     "execution_count": 27,
     "metadata": {},
     "output_type": "execute_result"
    }
   ],
   "source": [
    "data['Units Sold'].sum()"
   ]
  },
  {
   "cell_type": "code",
   "execution_count": 29,
   "id": "c7cfed72-7d9d-4f84-8eed-90d2c62a9b3b",
   "metadata": {},
   "outputs": [
    {
     "data": {
      "text/plain": [
       "1373487.6830999998"
      ]
     },
     "execution_count": 29,
     "metadata": {},
     "output_type": "execute_result"
    }
   ],
   "source": [
    "data['Total Revenue'].mean()"
   ]
  },
  {
   "cell_type": "code",
   "execution_count": 30,
   "id": "abbf51a7-7dcc-44a3-ac25-08c687f0fd17",
   "metadata": {},
   "outputs": [
    {
     "data": {
      "text/plain": [
       "137348768.31"
      ]
     },
     "execution_count": 30,
     "metadata": {},
     "output_type": "execute_result"
    }
   ],
   "source": [
    "data['Total Revenue'].sum()"
   ]
  },
  {
   "cell_type": "code",
   "execution_count": 31,
   "id": "9ad28cfd-3bbb-441a-b2af-70aebb75c2fb",
   "metadata": {},
   "outputs": [],
   "source": [
    "test123 = pd.read_excel('../input_files/Financial Sample.xlsx')"
   ]
  },
  {
   "cell_type": "code",
   "execution_count": 32,
   "id": "e9b88f43-2756-4111-97b5-8cd785bb2070",
   "metadata": {},
   "outputs": [
    {
     "data": {
      "text/html": [
       "<div>\n",
       "<style scoped>\n",
       "    .dataframe tbody tr th:only-of-type {\n",
       "        vertical-align: middle;\n",
       "    }\n",
       "\n",
       "    .dataframe tbody tr th {\n",
       "        vertical-align: top;\n",
       "    }\n",
       "\n",
       "    .dataframe thead th {\n",
       "        text-align: right;\n",
       "    }\n",
       "</style>\n",
       "<table border=\"1\" class=\"dataframe\">\n",
       "  <thead>\n",
       "    <tr style=\"text-align: right;\">\n",
       "      <th></th>\n",
       "      <th>Segment</th>\n",
       "      <th>Country</th>\n",
       "      <th>Product</th>\n",
       "      <th>Discount Band</th>\n",
       "      <th>Units Sold</th>\n",
       "      <th>Manufacturing Price</th>\n",
       "      <th>Sale Price</th>\n",
       "      <th>Gross Sales</th>\n",
       "      <th>Discounts</th>\n",
       "      <th>Sales</th>\n",
       "      <th>COGS</th>\n",
       "      <th>Profit</th>\n",
       "      <th>Date</th>\n",
       "      <th>Month Number</th>\n",
       "      <th>Month Name</th>\n",
       "      <th>Year</th>\n",
       "    </tr>\n",
       "  </thead>\n",
       "  <tbody>\n",
       "    <tr>\n",
       "      <th>0</th>\n",
       "      <td>Government</td>\n",
       "      <td>Canada</td>\n",
       "      <td>Carretera</td>\n",
       "      <td>None</td>\n",
       "      <td>1618.5</td>\n",
       "      <td>3</td>\n",
       "      <td>20</td>\n",
       "      <td>32370.0</td>\n",
       "      <td>0.00</td>\n",
       "      <td>32370.00</td>\n",
       "      <td>16185.0</td>\n",
       "      <td>16185.00</td>\n",
       "      <td>2014-01-01</td>\n",
       "      <td>1</td>\n",
       "      <td>January</td>\n",
       "      <td>2014</td>\n",
       "    </tr>\n",
       "    <tr>\n",
       "      <th>1</th>\n",
       "      <td>Government</td>\n",
       "      <td>Germany</td>\n",
       "      <td>Carretera</td>\n",
       "      <td>None</td>\n",
       "      <td>1321.0</td>\n",
       "      <td>3</td>\n",
       "      <td>20</td>\n",
       "      <td>26420.0</td>\n",
       "      <td>0.00</td>\n",
       "      <td>26420.00</td>\n",
       "      <td>13210.0</td>\n",
       "      <td>13210.00</td>\n",
       "      <td>2014-01-01</td>\n",
       "      <td>1</td>\n",
       "      <td>January</td>\n",
       "      <td>2014</td>\n",
       "    </tr>\n",
       "    <tr>\n",
       "      <th>2</th>\n",
       "      <td>Midmarket</td>\n",
       "      <td>France</td>\n",
       "      <td>Carretera</td>\n",
       "      <td>None</td>\n",
       "      <td>2178.0</td>\n",
       "      <td>3</td>\n",
       "      <td>15</td>\n",
       "      <td>32670.0</td>\n",
       "      <td>0.00</td>\n",
       "      <td>32670.00</td>\n",
       "      <td>21780.0</td>\n",
       "      <td>10890.00</td>\n",
       "      <td>2014-06-01</td>\n",
       "      <td>6</td>\n",
       "      <td>June</td>\n",
       "      <td>2014</td>\n",
       "    </tr>\n",
       "    <tr>\n",
       "      <th>3</th>\n",
       "      <td>Midmarket</td>\n",
       "      <td>Germany</td>\n",
       "      <td>Carretera</td>\n",
       "      <td>None</td>\n",
       "      <td>888.0</td>\n",
       "      <td>3</td>\n",
       "      <td>15</td>\n",
       "      <td>13320.0</td>\n",
       "      <td>0.00</td>\n",
       "      <td>13320.00</td>\n",
       "      <td>8880.0</td>\n",
       "      <td>4440.00</td>\n",
       "      <td>2014-06-01</td>\n",
       "      <td>6</td>\n",
       "      <td>June</td>\n",
       "      <td>2014</td>\n",
       "    </tr>\n",
       "    <tr>\n",
       "      <th>4</th>\n",
       "      <td>Midmarket</td>\n",
       "      <td>Mexico</td>\n",
       "      <td>Carretera</td>\n",
       "      <td>None</td>\n",
       "      <td>2470.0</td>\n",
       "      <td>3</td>\n",
       "      <td>15</td>\n",
       "      <td>37050.0</td>\n",
       "      <td>0.00</td>\n",
       "      <td>37050.00</td>\n",
       "      <td>24700.0</td>\n",
       "      <td>12350.00</td>\n",
       "      <td>2014-06-01</td>\n",
       "      <td>6</td>\n",
       "      <td>June</td>\n",
       "      <td>2014</td>\n",
       "    </tr>\n",
       "    <tr>\n",
       "      <th>...</th>\n",
       "      <td>...</td>\n",
       "      <td>...</td>\n",
       "      <td>...</td>\n",
       "      <td>...</td>\n",
       "      <td>...</td>\n",
       "      <td>...</td>\n",
       "      <td>...</td>\n",
       "      <td>...</td>\n",
       "      <td>...</td>\n",
       "      <td>...</td>\n",
       "      <td>...</td>\n",
       "      <td>...</td>\n",
       "      <td>...</td>\n",
       "      <td>...</td>\n",
       "      <td>...</td>\n",
       "      <td>...</td>\n",
       "    </tr>\n",
       "    <tr>\n",
       "      <th>695</th>\n",
       "      <td>Small Business</td>\n",
       "      <td>France</td>\n",
       "      <td>Amarilla</td>\n",
       "      <td>High</td>\n",
       "      <td>2475.0</td>\n",
       "      <td>260</td>\n",
       "      <td>300</td>\n",
       "      <td>742500.0</td>\n",
       "      <td>111375.00</td>\n",
       "      <td>631125.00</td>\n",
       "      <td>618750.0</td>\n",
       "      <td>12375.00</td>\n",
       "      <td>2014-03-01</td>\n",
       "      <td>3</td>\n",
       "      <td>March</td>\n",
       "      <td>2014</td>\n",
       "    </tr>\n",
       "    <tr>\n",
       "      <th>696</th>\n",
       "      <td>Small Business</td>\n",
       "      <td>Mexico</td>\n",
       "      <td>Amarilla</td>\n",
       "      <td>High</td>\n",
       "      <td>546.0</td>\n",
       "      <td>260</td>\n",
       "      <td>300</td>\n",
       "      <td>163800.0</td>\n",
       "      <td>24570.00</td>\n",
       "      <td>139230.00</td>\n",
       "      <td>136500.0</td>\n",
       "      <td>2730.00</td>\n",
       "      <td>2014-10-01</td>\n",
       "      <td>10</td>\n",
       "      <td>October</td>\n",
       "      <td>2014</td>\n",
       "    </tr>\n",
       "    <tr>\n",
       "      <th>697</th>\n",
       "      <td>Government</td>\n",
       "      <td>Mexico</td>\n",
       "      <td>Montana</td>\n",
       "      <td>High</td>\n",
       "      <td>1368.0</td>\n",
       "      <td>5</td>\n",
       "      <td>7</td>\n",
       "      <td>9576.0</td>\n",
       "      <td>1436.40</td>\n",
       "      <td>8139.60</td>\n",
       "      <td>6840.0</td>\n",
       "      <td>1299.60</td>\n",
       "      <td>2014-02-01</td>\n",
       "      <td>2</td>\n",
       "      <td>February</td>\n",
       "      <td>2014</td>\n",
       "    </tr>\n",
       "    <tr>\n",
       "      <th>698</th>\n",
       "      <td>Government</td>\n",
       "      <td>Canada</td>\n",
       "      <td>Paseo</td>\n",
       "      <td>High</td>\n",
       "      <td>723.0</td>\n",
       "      <td>10</td>\n",
       "      <td>7</td>\n",
       "      <td>5061.0</td>\n",
       "      <td>759.15</td>\n",
       "      <td>4301.85</td>\n",
       "      <td>3615.0</td>\n",
       "      <td>686.85</td>\n",
       "      <td>2014-04-01</td>\n",
       "      <td>4</td>\n",
       "      <td>April</td>\n",
       "      <td>2014</td>\n",
       "    </tr>\n",
       "    <tr>\n",
       "      <th>699</th>\n",
       "      <td>Channel Partners</td>\n",
       "      <td>United States of America</td>\n",
       "      <td>VTT</td>\n",
       "      <td>High</td>\n",
       "      <td>1806.0</td>\n",
       "      <td>250</td>\n",
       "      <td>12</td>\n",
       "      <td>21672.0</td>\n",
       "      <td>3250.80</td>\n",
       "      <td>18421.20</td>\n",
       "      <td>5418.0</td>\n",
       "      <td>13003.20</td>\n",
       "      <td>2014-05-01</td>\n",
       "      <td>5</td>\n",
       "      <td>May</td>\n",
       "      <td>2014</td>\n",
       "    </tr>\n",
       "  </tbody>\n",
       "</table>\n",
       "<p>700 rows × 16 columns</p>\n",
       "</div>"
      ],
      "text/plain": [
       "              Segment                   Country    Product Discount Band  \\\n",
       "0          Government                    Canada  Carretera          None   \n",
       "1          Government                   Germany  Carretera          None   \n",
       "2           Midmarket                    France  Carretera          None   \n",
       "3           Midmarket                   Germany  Carretera          None   \n",
       "4           Midmarket                    Mexico  Carretera          None   \n",
       "..                ...                       ...        ...           ...   \n",
       "695    Small Business                    France   Amarilla          High   \n",
       "696    Small Business                    Mexico   Amarilla          High   \n",
       "697        Government                    Mexico    Montana          High   \n",
       "698        Government                    Canada      Paseo          High   \n",
       "699  Channel Partners  United States of America        VTT          High   \n",
       "\n",
       "     Units Sold  Manufacturing Price  Sale Price  Gross Sales  Discounts  \\\n",
       "0        1618.5                    3          20      32370.0       0.00   \n",
       "1        1321.0                    3          20      26420.0       0.00   \n",
       "2        2178.0                    3          15      32670.0       0.00   \n",
       "3         888.0                    3          15      13320.0       0.00   \n",
       "4        2470.0                    3          15      37050.0       0.00   \n",
       "..          ...                  ...         ...          ...        ...   \n",
       "695      2475.0                  260         300     742500.0  111375.00   \n",
       "696       546.0                  260         300     163800.0   24570.00   \n",
       "697      1368.0                    5           7       9576.0    1436.40   \n",
       "698       723.0                   10           7       5061.0     759.15   \n",
       "699      1806.0                  250          12      21672.0    3250.80   \n",
       "\n",
       "         Sales      COGS    Profit       Date  Month Number Month Name  Year  \n",
       "0     32370.00   16185.0  16185.00 2014-01-01             1    January  2014  \n",
       "1     26420.00   13210.0  13210.00 2014-01-01             1    January  2014  \n",
       "2     32670.00   21780.0  10890.00 2014-06-01             6       June  2014  \n",
       "3     13320.00    8880.0   4440.00 2014-06-01             6       June  2014  \n",
       "4     37050.00   24700.0  12350.00 2014-06-01             6       June  2014  \n",
       "..         ...       ...       ...        ...           ...        ...   ...  \n",
       "695  631125.00  618750.0  12375.00 2014-03-01             3      March  2014  \n",
       "696  139230.00  136500.0   2730.00 2014-10-01            10    October  2014  \n",
       "697    8139.60    6840.0   1299.60 2014-02-01             2   February  2014  \n",
       "698    4301.85    3615.0    686.85 2014-04-01             4      April  2014  \n",
       "699   18421.20    5418.0  13003.20 2014-05-01             5        May  2014  \n",
       "\n",
       "[700 rows x 16 columns]"
      ]
     },
     "execution_count": 32,
     "metadata": {},
     "output_type": "execute_result"
    }
   ],
   "source": [
    "test123"
   ]
  },
  {
   "cell_type": "code",
   "execution_count": null,
   "id": "5a91327e-4d60-4ffd-9a8f-b00870400c24",
   "metadata": {},
   "outputs": [],
   "source": []
  }
 ],
 "metadata": {
  "kernelspec": {
   "display_name": "Python 3 (ipykernel)",
   "language": "python",
   "name": "python3"
  },
  "language_info": {
   "codemirror_mode": {
    "name": "ipython",
    "version": 3
   },
   "file_extension": ".py",
   "mimetype": "text/x-python",
   "name": "python",
   "nbconvert_exporter": "python",
   "pygments_lexer": "ipython3",
   "version": "3.9.7"
  }
 },
 "nbformat": 4,
 "nbformat_minor": 5
}
